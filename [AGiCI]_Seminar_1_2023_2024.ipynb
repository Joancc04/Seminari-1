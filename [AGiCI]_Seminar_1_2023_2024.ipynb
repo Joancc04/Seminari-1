{
  "cells": [
    {
      "cell_type": "markdown",
      "metadata": {
        "id": "79E5BMffKNq7"
      },
      "source": [
        "# Seminar 1 - A Song of Graphs and Search\n",
        "\n",
        "---\n",
        "\n",
        "**Course**: Graphs Analysis and Information Search\n",
        "\n",
        "**Degree**: Data Engineering Degree (UAB)\n",
        "\n",
        "**Topic**: Practical seminar that includes exercises from units 1 to 6\n",
        "\n",
        "**Activity description**: Most of us are familiar with the Game of Thrones books or series. For those who do not know it, it is a fictional series from the HBO chain, inspired by the series of novels \"A Song of Ice and Fire\", which tells the experiences of a group of characters from different noble houses on the fictional continent of *Westeros* to have control of the Iron Throne and rule the seven kingdoms that make up the territory. The series' success has spawned many blogs and other sources about the series, with additional resources. The graphs that we propose to use in this exercise represent the characters of the series (or books) as nodes, and their co-appearance in a scene (the weights of the edges are higher if two characters appear simultaneously more times). So we have a social network of characters. We will use these graphs to work on some of the concepts seen in the first units of the course (graph and node metrics, search and routes). Finally, synthetic graphs that simulate a realistic network will be generated."
      ]
    },
    {
      "cell_type": "markdown",
      "metadata": {
        "id": "wLiz4rCDKvnz"
      },
      "source": [
        "## Qualification\n",
        "\n",
        "**Submission**: An '.ipynb' file from the colab corresponding to each group will be delivered (this very same file, adding the code blocks and explanations that correspond to each activity). To get the file you will need to go to File --> Download. Remember that you will have to answer and analyze the different problems. Coding alone will NOT be evaluated: explaining and reasoning about the solution of the problem is essential. **You should provide explanations of the obtained results for at least the exercises marked with the 💬 symbol**.\n",
        "The outcome of this seminar will thus be an analysis of the network at different levels: global metrics, node importance, shortest paths, random graphs, and visualization.\n",
        "\n",
        "**Delivery form**: The work must be done in **groups of two people** and delivered through the virtual campus (in the section corresponding to Seminar 1).\n",
        "\n",
        "**Doubts**: For any questions, apart from class sessions, you can contact cristina.perez@uab.cat.\n",
        "\n",
        "**Deadline**: October 16 (during all day).\n",
        "\n",
        "**Marks**: The grade of the seminars (seminar 1 + seminar 2) has a weight of 10% on the final grade of the subject.\n"
      ]
    },
    {
      "cell_type": "markdown",
      "metadata": {
        "id": "1mN24cx9gHve"
      },
      "source": [
        "# Authors\n",
        "\n",
        "**Lab group:** GrupLab-XX\n",
        "\n",
        "**Student 1 - Name (NIU):**\n",
        "\n",
        "**Student 2 - Name (NIU):**"
      ]
    },
    {
      "cell_type": "markdown",
      "metadata": {
        "id": "z2qbjyP1Dies"
      },
      "source": [
        "## 1. Environment setup\n",
        "----\n",
        "\n",
        "The main libraries that will be used in this seminar are the following:\n",
        "\n",
        "* [NetworkX](https://networkx.github.io/)\n",
        "* [Pandas](https://pandas.pydata.org/)\n",
        "* [Matplotlib](https://matplotlib.org/)\n",
        "* [NumPy](https://numpy.org/)\n",
        "\n"
      ]
    },
    {
      "cell_type": "code",
      "execution_count": null,
      "metadata": {
        "id": "_PWbwZx7z0Ek"
      },
      "outputs": [],
      "source": []
    },
    {
      "cell_type": "code",
      "execution_count": null,
      "metadata": {
        "id": "gSnP2jzpDiB4"
      },
      "outputs": [],
      "source": []
    },
    {
      "cell_type": "code",
      "execution_count": 2,
      "metadata": {
        "id": "ai3-8Rz2zAFD"
      },
      "outputs": [],
      "source": [
        "import networkx as nx\n",
        "from networkx.drawing.nx_agraph import graphviz_layout\n",
        "\n",
        "import numpy as np\n",
        "import pandas as pd\n",
        "import matplotlib.pyplot as plt\n",
        "%matplotlib inline\n",
        "\n",
        "from collections import Counter"
      ]
    },
    {
      "cell_type": "markdown",
      "metadata": {
        "id": "7jPVT43xAiSm"
      },
      "source": [
        "## 2. Data collection\n",
        "\n",
        "---\n",
        "\n",
        "This seminar is based on data from *Game of Thrones* and \"A Song of Ice and Fire\" curated by Andrew Beveridge. Data is available from two different github repositories:\n",
        "\n",
        "* [Book to Network](https://github.com/mathbeveridge/asoiaf)\n",
        "* [Script to Network](https://github.com/mathbeveridge/gameofthrones)\n",
        "\n",
        "In each of them, there is a *data* folder with several *.csv* files that encode nodes and edges of different networks.\n",
        "\n",
        "To download the data in the *colab* environment you can run the following command:\n",
        "\n",
        "```\n",
        "$ !wget https://raw.githubusercontent.com/mathbeveridge/repo_name/master/data/file_id-nodes.csv\n",
        "$ !wget https://raw.githubusercontent.com/mathbeveridge/repo_name/master/data/file_id-edges.csv\n",
        "```\n",
        "\n",
        "\n",
        "where,\n",
        "\n",
        "* **repo_name** is the name of the repository, *asoiaf* for the Books and *gameofthrones* for the Script.\n",
        "* **file_id** is the ID of the file you can find with the link. This indicates the book or season number.\n",
        "\n",
        "For example, to download the graph of the first season of the series, we would run:\n",
        "\n",
        "```\n",
        "$ !wget https://raw.githubusercontent.com/mathbeveridge/gameofthrones/master/data/got-s1-nodes.csv\n",
        "$ !wget https://raw.githubusercontent.com/mathbeveridge/gameofthrones/master/data/got-s1-edges.csv\n",
        "```\n",
        "\n",
        "The downloaded files can be found in */content/file_name*."
      ]
    },
    {
      "cell_type": "markdown",
      "metadata": {
        "id": "S7FtY-xO2vfv"
      },
      "source": [
        "For this activity, we will work with the graph generated from all the books.\n",
        "\n",
        "\n",
        "*  **Download the two .csv files corresponding to the graph generated from all the books (asoiaf-all)**."
      ]
    },
    {
      "cell_type": "code",
      "execution_count": null,
      "metadata": {
        "id": "jBFCzKx6AmOq"
      },
      "outputs": [],
      "source": []
    },
    {
      "cell_type": "markdown",
      "metadata": {
        "id": "twfpe2fpAptq"
      },
      "source": [
        "## 3. Data load\n",
        "\n",
        "---\n",
        "\n",
        "The function *csv_to_graph()* creates a NetworkX graph from the *.csv* files encoding edges and nodes."
      ]
    },
    {
      "cell_type": "code",
      "execution_count": 3,
      "metadata": {
        "id": "Jd2_o4UZAqN7"
      },
      "outputs": [],
      "source": [
        "def csv_to_graph(file_id_nodes: str, file_id_edges: str, origin: str = 'book') \\\n",
        "                    -> nx.graph:\n",
        "    \"\"\"Return a nx.graph\n",
        "\n",
        "    Build a graph given a csv file for nodes and edge.\n",
        "    origin controls the source of the graph to adapt the node features.\n",
        "    \"\"\"\n",
        "\n",
        "    if origin == 'book':\n",
        "        key1, key2 = 'weight', 'book'\n",
        "    elif origin == 'script':\n",
        "        key1, key2 = 'Weight', 'Season'\n",
        "    else:\n",
        "        raise NameError('Unknown origin {}'.format(origin))\n",
        "\n",
        "    nodes = pd.read_csv(file_id_nodes)\n",
        "    edges = pd.read_csv(file_id_edges)\n",
        "\n",
        "    if key2 not in edges:\n",
        "        key2 = 'id'\n",
        "\n",
        "    g = nx.Graph()\n",
        "    for row in nodes.iterrows():\n",
        "        g.add_node(row[1]['Id'], name=row[1]['Label'])\n",
        "\n",
        "    for row in edges.iterrows():\n",
        "        g.add_edge(row[1]['Source'],row[1]['Target'],\n",
        "                   weight=1/row[1][key1], id=row[1][key2])\n",
        "\n",
        "    return g\n"
      ]
    },
    {
      "cell_type": "markdown",
      "metadata": {
        "id": "BXfsNMBoBA0u"
      },
      "source": [
        "* **Create a NetworkX graph from the downloaded files using the `csv_to_graph` function.** [Optionally, you can repeat the process with the graph generated from the series]"
      ]
    },
    {
      "cell_type": "code",
      "execution_count": 14,
      "metadata": {
        "id": "7bkvDRy4BG_-"
      },
      "outputs": [],
      "source": [
        "G = csv_to_graph('asoiaf-all-nodes.csv', 'asoiaf-all-edges.csv', origin='book')"
      ]
    },
    {
      "cell_type": "markdown",
      "metadata": {
        "id": "RYA9HhHfTF5J"
      },
      "source": [
        "* **Generate a first exploratory visualization of the graph.**"
      ]
    },
    {
      "cell_type": "code",
      "execution_count": 28,
      "metadata": {
        "id": "_8Zft9qsFpM3"
      },
      "outputs": [
        {
          "data": {
            "image/png": "[encoded data removed]",
            "text/plain": [
              "<Figure size 600x600 with 1 Axes>"
            ]
          },
          "metadata": {},
          "output_type": "display_data"
        }
      ],
      "source": [
        "nx.draw_networkx(G)\n",
        "plt.rcParams['figure.figsize'] = [50, 50]\n",
        "plt.rcParams['figure.dpi'] = 100\n",
        "nx.draw_networkx(G)\n",
        "plt.show()\n",
        "\n"
      ]
    },
    {
      "cell_type": "markdown",
      "metadata": {
        "id": "p3NMU6sFTWah"
      },
      "source": [
        "## 4. General graph metrics\n",
        "---\n",
        "\n",
        "Perform a general summary of the Network properties."
      ]
    },
    {
      "cell_type": "markdown",
      "metadata": {
        "id": "iZ5QMkkdTcez"
      },
      "source": [
        "* **💬  Obtain the order, size and density of the graph, as well as the average degree of its nodes.**\n"
      ]
    },
    {
      "cell_type": "code",
      "execution_count": 20,
      "metadata": {
        "id": "jhMIYrihTfGz"
      },
      "outputs": [
        {
          "data": {
            "text/plain": [
              "dict_items([('Order', 796), ('Size', 2823), ('Density', 0.008921968332227173), ('Avg_degree', {12: 33.55, 4: 30.297101449275363, 9: 34.5761316872428, 15: 21.8, 1: 44.04812834224599, 26: 21.596153846153847, 19: 26.903508771929825, 10: 30.1, 3: 33.22868217054263, 2: 36.42123287671233, 7: 32.48571428571429, 5: 28.09285714285714, 8: 29.276041666666668, 20: 23.808333333333334, 6: 29.816239316239315, 84: 21.761904761904763, 25: 22.08, 13: 29.634615384615383, 16: 27.9375, 41: 28.29268292682927, 14: 34.816326530612244, 18: 34.801587301587304, 54: 26.51851851851852, 45: 26.844444444444445, 75: 25.82, 97: 23.38144329896907, 73: 13.26027397260274, 33: 28.560606060606062, 21: 33.892857142857146, 74: 26.62162162162162, 24: 26.26388888888889, 11: 26.167832167832167, 22: 32.80681818181818, 101: 21.554455445544555, 23: 34.70652173913044, 28: 35.166666666666664, 69: 31.144927536231883, 17: 44.3235294117647, 114: 16.885964912280702, 30: 33.983333333333334, 47: 33.40425531914894, 27: 41.407407407407405, 38: 36.81578947368421, 65: 32.6, 44: 17.113636363636363, 36: 34.05555555555556, 89: 22.685393258426966, 66: 20.136363636363637, 122: 20.565573770491802, 48: 34.708333333333336, 34: 40.23529411764706})])"
            ]
          },
          "execution_count": 20,
          "metadata": {},
          "output_type": "execute_result"
        }
      ],
      "source": [
        "graph_properties = {\n",
        "    'Order' : len(G.nodes()), # we can easily get the graph size by counting the number of nodes it has using the 'len' function\n",
        "    'Size' : len(G.edges()), # we can get the graph size the same way as the we got the order, by counting the edges with the 'len' function\n",
        "    'Density' : nx.density(G),\n",
        "    'Avg_degree' : nx.average_degree_connectivity(G)\n",
        "}\n",
        "\n",
        "graph_properties.items()"
      ]
    },
    {
      "cell_type": "markdown",
      "metadata": {
        "id": "AIqk5NY-e97f"
      },
      "source": [
        "💬 :"
      ]
    },
    {
      "cell_type": "markdown",
      "metadata": {
        "id": "4UNE33UKTeJb"
      },
      "source": [
        "* **Check that it is a connected undirected graph.**"
      ]
    },
    {
      "cell_type": "code",
      "execution_count": 23,
      "metadata": {
        "id": "_Ac20vgWUM8S"
      },
      "outputs": [
        {
          "data": {
            "text/plain": [
              "(False, False)"
            ]
          },
          "execution_count": 23,
          "metadata": {},
          "output_type": "execute_result"
        }
      ],
      "source": [
        "G.is_directed(), G.is_multigraph()\n",
        "# As the result in both methods are 'False', we can assume the Graph is undirected and \n",
        "# connected, with no subgraphs."
      ]
    },
    {
      "cell_type": "markdown",
      "metadata": {
        "id": "v4a8idcD49W_"
      },
      "source": [
        "* **💬 Make a small report on the metrics of the given graph (diameter, radius, average network distance, clustering coefficient).**"
      ]
    },
    {
      "cell_type": "code",
      "execution_count": 24,
      "metadata": {
        "id": "OpQpgHRIth7N"
      },
      "outputs": [
        {
          "data": {
            "text/plain": [
              "{'Addam-Marbrand': 0.5454545454545454,\n",
              " 'Aegon-Frey-(son-of-Stevron)': 1.0,\n",
              " 'Aegon-I-Targaryen': 0.2222222222222222,\n",
              " 'Aegon-Targaryen-(son-of-Rhaegar)': 0.3333333333333333,\n",
              " 'Aegon-V-Targaryen': 0,\n",
              " 'Aemon-Targaryen-(Dragonknight)': 0,\n",
              " 'Aemon-Targaryen-(Maester-Aemon)': 0.27384615384615385,\n",
              " 'Aenys-Frey': 0.5,\n",
              " 'Aeron-Greyjoy': 0.19047619047619047,\n",
              " 'Aerys-I-Targaryen': 0,\n",
              " 'Aerys-II-Targaryen': 0.32748538011695905,\n",
              " 'Aggar': 0,\n",
              " 'Aggo': 0.6666666666666666,\n",
              " 'Alayaya': 0.5,\n",
              " 'Albett': 1.0,\n",
              " 'Alebelly': 0.5,\n",
              " 'Alerie-Hightower': 1.0,\n",
              " 'Alester-Florent': 0.6190476190476191,\n",
              " 'Alla-Tyrell': 0.7,\n",
              " 'Allar-Deem': 1.0,\n",
              " 'Allard-Seaworth': 0.6666666666666666,\n",
              " 'Alleras': 0.42857142857142855,\n",
              " 'Alliser-Thorne': 0.5333333333333333,\n",
              " 'Alyn': 0.7,\n",
              " 'Alys-Arryn': 0,\n",
              " 'Alys-Karstark': 1.0,\n",
              " 'Alysane-Mormont': 1.0,\n",
              " 'Amabel': 1.0,\n",
              " 'Amerei-Frey': 0.6666666666666666,\n",
              " 'Amory-Lorch': 0.5210526315789473,\n",
              " 'Anders-Yronwood': 0,\n",
              " 'Andrew-Estermont': 0.3333333333333333,\n",
              " 'Andrey-Dalt': 0.9,\n",
              " 'Anguy': 0.5555555555555556,\n",
              " 'Anya-Waynwood': 0.5238095238095238,\n",
              " 'Archibald-Yronwood': 0.8333333333333334,\n",
              " 'Ardrian-Celtigar': 0,\n",
              " 'Areo-Hotah': 0.5,\n",
              " 'Arianne-Martell': 0.18947368421052632,\n",
              " 'Armen': 0.6,\n",
              " 'Arnolf-Karstark': 0.2,\n",
              " 'Aron-Santagar': 0,\n",
              " 'Arron': 1.0,\n",
              " 'Arson': 0,\n",
              " 'Arstan': 0.5,\n",
              " 'Arthor-Karstark': 0,\n",
              " 'Arthur-Dayne': 0.3,\n",
              " 'Arwyn-Oakheart': 0,\n",
              " 'Arya-Stark': 0.11244979919678715,\n",
              " 'Arys-Oakheart': 0.5,\n",
              " 'Asha-Greyjoy': 0.11333333333333333,\n",
              " 'Ashara-Dayne': 0,\n",
              " 'Aurane-Waters': 0.6111111111111112,\n",
              " 'Axell-Florent': 0.5111111111111111,\n",
              " 'Azor-Ahai': 0,\n",
              " 'Bael-the-Bard': 0,\n",
              " 'Baelor-Blacktyde': 1.0,\n",
              " 'Baelor-I-Targaryen': 1.0,\n",
              " 'Ballabar': 0.3333333333333333,\n",
              " 'Balman-Byrch': 1.0,\n",
              " 'Balon-Greyjoy': 0.48717948717948717,\n",
              " 'Balon-Swann': 0.44166666666666665,\n",
              " 'Bannen': 1.0,\n",
              " 'Barbrey-Dustin': 0.6666666666666666,\n",
              " 'Barristan-Selmy': 0.2121951219512195,\n",
              " 'Barsena': 0,\n",
              " 'Bartimus': 0,\n",
              " 'Bedwyck': 1.0,\n",
              " 'Belaquo': 0.6666666666666666,\n",
              " 'Bellegere-Otherys': 0,\n",
              " 'Belwas': 0.41025641025641024,\n",
              " 'Ben-Bones': 1.0,\n",
              " 'Ben-Plumm': 0.4444444444444444,\n",
              " 'Benedar-Belmore': 0.7,\n",
              " 'Benerro': 0.6666666666666666,\n",
              " 'Benethon-Scales': 1.0,\n",
              " 'Benfred-Tallhart': 0.16666666666666666,\n",
              " 'Benjen-Stark': 0.5164835164835165,\n",
              " 'Beric-Dondarrion': 0.46405228758169936,\n",
              " 'Beth-Cassel': 1.0,\n",
              " 'Big-Boil': 1.0,\n",
              " 'Biter': 0.6,\n",
              " 'Black-Balaq': 0,\n",
              " 'Blane': 0,\n",
              " 'Bloodbeard': 0.6666666666666666,\n",
              " 'Blue-Bard': 0.6,\n",
              " 'Bonifer-Hasty': 0,\n",
              " 'Boros-Blount': 0.6373626373626373,\n",
              " 'Bowen-Marsh': 0.43137254901960786,\n",
              " 'Bran-Stark': 0.15513626834381553,\n",
              " 'Brandon-Norrey': 0,\n",
              " 'Brandon-Stark': 0.42857142857142855,\n",
              " 'Brea': 0.6666666666666666,\n",
              " 'Brella': 1.0,\n",
              " 'Brenett': 0,\n",
              " 'Brienne-of-Tarth': 0.1686868686868687,\n",
              " 'Bronn': 0.25666666666666665,\n",
              " 'Brus-Buckler': 1.0,\n",
              " 'Brusco': 1.0,\n",
              " 'Bryce-Caron': 0.4,\n",
              " 'Brynden-Rivers': 1.0,\n",
              " 'Brynden-Tully': 0.3684210526315789,\n",
              " 'Bump': 0,\n",
              " 'Butterbumps': 1.0,\n",
              " 'Byam-Flint': 0,\n",
              " 'Caggo': 0.6,\n",
              " 'Caleotte': 0.6666666666666666,\n",
              " 'Camarron': 0,\n",
              " 'Captain-Myraham': 0,\n",
              " 'Captain-Myraham-Daughter': 0,\n",
              " 'Catelyn-Stark': 0.13837837837837838,\n",
              " 'Cayn': 0.6666666666666666,\n",
              " 'Cedra': 1.0,\n",
              " 'Cedric-Payne': 0,\n",
              " 'Cellador': 0.6666666666666666,\n",
              " 'Cersei-Lannister': 0.13165807560137457,\n",
              " 'Chataya': 0,\n",
              " 'Chayle': 1.0,\n",
              " 'Chella': 1.0,\n",
              " 'Chett': 0.7142857142857143,\n",
              " 'Chiggen': 1.0,\n",
              " 'Chiswyck': 0.8974358974358975,\n",
              " 'Clarence-Crabb': 0,\n",
              " 'Clayton-Suggs': 1.0,\n",
              " 'Clement-Piper': 1.0,\n",
              " 'Cleon': 0.6666666666666666,\n",
              " 'Cleos-Frey': 0.9523809523809523,\n",
              " 'Cletus-Yronwood': 0.6,\n",
              " 'Cley-Cerwyn': 1.0,\n",
              " 'Clubfoot-Karl': 1.0,\n",
              " 'Clydas': 0.5714285714285714,\n",
              " 'Cohollo': 1.0,\n",
              " 'Coldhands': 0.6666666666666666,\n",
              " 'Colemon': 0.4666666666666667,\n",
              " 'Colen-of-Greenpools': 1.0,\n",
              " 'Conn': 0.3333333333333333,\n",
              " 'Coratt': 0,\n",
              " 'Corliss-Penny': 0,\n",
              " 'Cortnay-Penrose': 0.6190476190476191,\n",
              " 'Cotter-Pyke': 0.6888888888888889,\n",
              " 'Craster': 0.3333333333333333,\n",
              " 'Creighton-Longbough': 0.3333333333333333,\n",
              " 'Cressen': 0.5555555555555556,\n",
              " 'Cromm': 1.0,\n",
              " 'Cutjack': 0,\n",
              " 'Daario-Naharis': 0.391812865497076,\n",
              " 'Dacey-Mormont': 1.0,\n",
              " 'Daemon-Sand': 1.0,\n",
              " 'Daenerys-Targaryen': 0.07648401826484018,\n",
              " 'Daeron-I-Targaryen': 0,\n",
              " 'Daeron-II-Targaryen': 0,\n",
              " 'Dagmer': 0.7,\n",
              " 'Dalbridge': 1.0,\n",
              " 'Dalla': 0.8,\n",
              " 'Damon-Dance-for-Me': 0.8,\n",
              " 'Dancy': 0,\n",
              " 'Danwell-Frey': 0.3333333333333333,\n",
              " 'Dareon': 0.4666666666666667,\n",
              " 'Daryn-Hornwood': 1.0,\n",
              " 'Daven-Lannister': 1.0,\n",
              " 'Davos-Seaworth': 0.1268939393939394,\n",
              " 'Denyo-Terys': 1.0,\n",
              " 'Denys-Darklyn': 0,\n",
              " 'Denys-Mallister': 0.8611111111111112,\n",
              " 'Denzo-Dhan': 0,\n",
              " 'Desmond': 1.0,\n",
              " 'Desmond-Grell': 0.8333333333333334,\n",
              " 'Devan-Seaworth': 0.6666666666666666,\n",
              " 'Dick-Crabb': 0.4,\n",
              " 'Dick-Follard': 1.0,\n",
              " 'Dick-Straw': 0,\n",
              " 'Dirk': 1.0,\n",
              " 'Dobber': 0,\n",
              " 'Dolf': 0,\n",
              " 'Donal-Noye': 0.6428571428571429,\n",
              " 'Donella-Hornwood': 0.38095238095238093,\n",
              " 'Donnel-Waynwood': 0,\n",
              " 'Dontos-Hollard': 0.5,\n",
              " 'Doran-Martell': 0.2904761904761905,\n",
              " 'Dorcas': 0.7333333333333333,\n",
              " 'Doreah': 0.9333333333333333,\n",
              " 'Draqaz': 0,\n",
              " 'Drennan': 1.0,\n",
              " 'Drogo': 0.2904761904761905,\n",
              " 'Dryn': 0,\n",
              " 'Dunsen': 0.8974358974358975,\n",
              " 'Dunstan-Drumm': 0.6666666666666666,\n",
              " 'Dywen': 0.7142857142857143,\n",
              " 'Ebben': 0.8333333333333334,\n",
              " 'Eddard-Stark': 0.15179563124768605,\n",
              " 'Eddison-Tollett': 0.37894736842105264,\n",
              " 'Edmure-Tully': 0.2971014492753623,\n",
              " 'Edric-Storm': 0.5333333333333333,\n",
              " 'Edwyn-Frey': 0.8333333333333334,\n",
              " 'Elbert-Arryn': 0,\n",
              " 'Elder-Brother': 1.0,\n",
              " 'Eldon-Estermont': 0,\n",
              " 'Elia-Martell': 0.5833333333333334,\n",
              " 'Elinor-Tyrell': 0.7,\n",
              " 'Ellaria-Sand': 0.7333333333333333,\n",
              " 'Elmar-Frey': 0.8611111111111112,\n",
              " 'Elys-Waynwood': 0,\n",
              " 'Emmett': 0.6,\n",
              " 'Emmon-Cuy': 0.6666666666666666,\n",
              " 'Emmon-Frey': 0.5,\n",
              " 'Emmond': 0,\n",
              " 'Emrick': 1.0,\n",
              " 'Eon-Hunter': 1.0,\n",
              " 'Eroeh': 0,\n",
              " 'Errok': 0.6666666666666666,\n",
              " 'Euron-Greyjoy': 0.28205128205128205,\n",
              " 'Eustace-Brune': 0,\n",
              " 'Ezzara': 0,\n",
              " 'Falyse-Stokeworth': 0.6666666666666666,\n",
              " 'Farlen': 0,\n",
              " 'Florian-the-Fool': 0,\n",
              " 'Fogo': 0,\n",
              " 'Forley-Prester': 1.0,\n",
              " 'Franklyn-Flowers': 0.3333333333333333,\n",
              " 'Franklyn-Fowler': 0,\n",
              " 'Frenken': 0,\n",
              " 'Frenya': 1.0,\n",
              " 'Fulk': 1.0,\n",
              " 'Galazza-Galare': 0.7333333333333333,\n",
              " 'Galbart-Glover': 0.4642857142857143,\n",
              " 'Galyeon-of-Cuy': 0,\n",
              " 'Gared': 0.3333333333333333,\n",
              " 'Garin-(orphan)': 0.4444444444444444,\n",
              " 'Gariss': 0,\n",
              " 'Garlan-Tyrell': 0.6666666666666666,\n",
              " 'Garrett-Paege': 0,\n",
              " 'Garth-(Wolfs-Den)': 1.0,\n",
              " 'Garth-Greyfeather': 1.0,\n",
              " 'Garth-Tyrell': 0,\n",
              " 'Gawen-Westerling': 0,\n",
              " 'Gelmarr': 0,\n",
              " 'Gendel': 1.0,\n",
              " 'Gendry': 0.2736842105263158,\n",
              " 'Genna-Lannister': 1.0,\n",
              " 'Gerald-Gower': 0,\n",
              " 'Gerold-Dayne': 0.8,\n",
              " 'Gerold-Grafton': 0,\n",
              " 'Gerold-Hightower': 0.4642857142857143,\n",
              " 'Gerrick-Kingsblood': 0,\n",
              " 'Gerris-Drinkwater': 0.5277777777777778,\n",
              " 'Ghael': 1.0,\n",
              " 'Gilly': 0.31868131868131866,\n",
              " 'Gilwood-Hunter': 0.5,\n",
              " 'Godric-Borrell': 0,\n",
              " 'Godry-Farring': 0.5238095238095238,\n",
              " 'Goghor-the-Giant': 0.8333333333333334,\n",
              " 'Gormon-Tyrell': 0,\n",
              " 'Gormond-Goodbrother': 0,\n",
              " 'Gorne': 1.0,\n",
              " 'Gorold-Goodbrother': 1.0,\n",
              " 'Grazdan-mo-Eraz': 0,\n",
              " 'Grazhar': 0.3333333333333333,\n",
              " 'Greenbeard': 0.7619047619047619,\n",
              " 'Gregor-Clegane': 0.39015151515151514,\n",
              " 'Grenn': 0.44761904761904764,\n",
              " 'Gretchel': 0.8333333333333334,\n",
              " 'Grey-Worm': 0.7857142857142857,\n",
              " 'Greydon-Goodbrother': 0,\n",
              " 'Grigg': 0.6666666666666666,\n",
              " 'Grimtongue': 0.5,\n",
              " 'Grisel': 0,\n",
              " 'Groleo': 0.8,\n",
              " 'Grunt': 1.0,\n",
              " 'Guncer-Sunglass': 1.0,\n",
              " 'Gunthor-son-of-Gurn': 0,\n",
              " 'Guyard-Morrigen': 1.0,\n",
              " 'Gyles-Grafton': 1.0,\n",
              " 'Gyles-Rosby': 0.4117647058823529,\n",
              " 'Gynir': 0,\n",
              " 'Hagen': 0.4,\n",
              " 'Haggo': 0.7333333333333333,\n",
              " 'Haggon': 0,\n",
              " 'Hairy-Hal': 1.0,\n",
              " 'Hake': 0,\n",
              " 'Halder': 0.6785714285714286,\n",
              " 'Haldon': 0.45454545454545453,\n",
              " 'Hali': 0,\n",
              " 'Hallis-Mollen': 0.8,\n",
              " 'Hallyne': 1.0,\n",
              " 'Halys-Hornwood': 0,\n",
              " 'Hareth-(Moles-Town)': 0.3090909090909091,\n",
              " 'Harl': 0,\n",
              " 'Harma': 0.6785714285714286,\n",
              " 'Harra': 1.0,\n",
              " 'Harras-Harlaw': 0,\n",
              " 'Harren-Hoare': 0.6666666666666666,\n",
              " 'Harrold-Hardyng': 0.6666666666666666,\n",
              " 'Harry-Strickland': 0.6666666666666666,\n",
              " 'Harwin': 0.4909090909090909,\n",
              " 'Harwood-Stout': 0,\n",
              " 'Harys-Swyft': 0.7222222222222222,\n",
              " 'Hayhead': 1.0,\n",
              " 'Helman-Tallhart': 0.16666666666666666,\n",
              " 'Hero': 1.0,\n",
              " 'Heward': 1.0,\n",
              " 'High-Septon-(fat_one)': 1.0,\n",
              " 'High-Septon-(Tyrions)': 1.0,\n",
              " 'High-Sparrow': 0.5357142857142857,\n",
              " 'Hizdahr-zo-Loraq': 0.2597402597402597,\n",
              " 'Hobb': 0.5454545454545454,\n",
              " 'Hobber-Redwyne': 0,\n",
              " 'Hodor': 0.5636363636363636,\n",
              " 'Holly': 0.6666666666666666,\n",
              " 'Hop-Robin': 1.0,\n",
              " 'Horas-Redwyne': 0,\n",
              " 'Horton-Redfort': 0.6666666666666666,\n",
              " 'Hosteen-Frey': 0.3333333333333333,\n",
              " 'Hoster-Blackwood': 0,\n",
              " 'Hoster-Tully': 0.5555555555555556,\n",
              " 'Hot-Pie': 0.4,\n",
              " 'Hother-Umber': 0.16666666666666666,\n",
              " 'Hotho-Harlaw': 0.6666666666666666,\n",
              " 'Howland-Reed': 1.0,\n",
              " 'Hugh': 0,\n",
              " 'Hugh-Hungerford': 0,\n",
              " 'Hugo-Vance': 0,\n",
              " 'Hullen': 0.6666666666666666,\n",
              " 'Humfrey-Hewett': 1.0,\n",
              " 'Husband': 1.0,\n",
              " 'Hyle-Hunt': 0.5238095238095238,\n",
              " 'Illifer': 1.0,\n",
              " 'Illyrio-Mopatis': 0.4696969696969697,\n",
              " 'Ilyn-Payne': 0.5670995670995671,\n",
              " 'Imry-Florent': 0,\n",
              " 'Irri': 0.4857142857142857,\n",
              " 'Jacelyn-Bywater': 0.7222222222222222,\n",
              " 'Jack-Be-Lucky': 0,\n",
              " 'Jack-Bulwer': 0.4,\n",
              " 'Jacks': 0,\n",
              " 'Jaehaerys-I-Targaryen': 0,\n",
              " 'Jafer-Flowers': 0,\n",
              " 'Jaime-Lannister': 0.10851485148514851,\n",
              " 'Jalabhar-Xho': 0.5,\n",
              " 'Janos-Slynt': 0.4031620553359684,\n",
              " 'Jaqen-Hghar': 0.6,\n",
              " 'Jared-Frey': 0.3333333333333333,\n",
              " 'Jaremy-Rykker': 0.5,\n",
              " 'Jarl': 0.6071428571428571,\n",
              " 'Jarman-Buckwell': 1.0,\n",
              " 'Jason-Mallister': 0.6666666666666666,\n",
              " 'Jeor-Mormont': 0.23544973544973544,\n",
              " 'Jeyne-Farman': 0,\n",
              " 'Jeyne-Heddle': 0,\n",
              " 'Jeyne-Poole': 0.3333333333333333,\n",
              " 'Jeyne-Westerling': 0.6,\n",
              " 'Jhiqui': 0.5909090909090909,\n",
              " 'Jhogo': 0.5606060606060606,\n",
              " 'Joanna-Lannister': 0,\n",
              " 'Jocelyn-Swyft': 0.7,\n",
              " 'Joffrey-Baratheon': 0.2195225916453538,\n",
              " 'Jojen-Reed': 0.4888888888888889,\n",
              " 'Jommo': 1.0,\n",
              " 'Jon-Arryn': 0.5588235294117647,\n",
              " 'Jon-Connington': 0.31666666666666665,\n",
              " 'Jon-Fossoway': 0,\n",
              " 'Jon-Snow': 0.06629405371836672,\n",
              " 'Jon-Umber-(Greatjon)': 0.3626373626373626,\n",
              " 'Jon-Umber-(Smalljon)': 1.0,\n",
              " 'Jonos-Bracken': 1.0,\n",
              " 'Jonothor-Darry': 1.0,\n",
              " 'Jonquil': 0,\n",
              " 'Jorah-Mormont': 0.28307692307692306,\n",
              " 'Joramun': 1.0,\n",
              " 'Jory-Cassel': 0.44761904761904764,\n",
              " 'Joseth': 1.0,\n",
              " 'Josmyn-Peckledon': 1.0,\n",
              " 'Joss': 0,\n",
              " 'Joy-Hill': 0,\n",
              " 'Justin-Massey': 0.6,\n",
              " 'Jyck': 1.0,\n",
              " 'Karyl-Vance': 0.5,\n",
              " 'Kasporio': 1.0,\n",
              " 'Kedry': 1.0,\n",
              " 'Kegs': 0.7142857142857143,\n",
              " 'Kella': 0,\n",
              " 'Kerwin': 0,\n",
              " 'Kevan-Lannister': 0.5073529411764706,\n",
              " 'Khorane-Sathmantes': 1.0,\n",
              " 'Khrazz': 0.6,\n",
              " 'Kindly-Man': 1.0,\n",
              " 'Kojja-Mo': 1.0,\n",
              " 'Koss': 1.0,\n",
              " 'Kraznys-mo-Nakloz': 1.0,\n",
              " 'Kurleket': 0,\n",
              " 'Kurz': 0,\n",
              " 'Kyra': 0,\n",
              " 'Lambert-Turnberry': 0.6666666666666666,\n",
              " 'Lamprey': 0.8333333333333334,\n",
              " 'Lancel-Lannister': 0.5909090909090909,\n",
              " 'Lanna-(Happy-Port)': 0,\n",
              " 'Lark': 0.6,\n",
              " 'Larraq': 0,\n",
              " 'Leaf': 1.0,\n",
              " 'Leathers': 0.5,\n",
              " 'Lem': 0.38095238095238093,\n",
              " 'Lemore': 0.9523809523809523,\n",
              " 'Leo-Lefford': 0,\n",
              " 'Leo-Tyrell': 0.6,\n",
              " 'Leobald-Tallhart': 0.3333333333333333,\n",
              " 'Leona-Woolfield': 1.0,\n",
              " 'Leonette-Fossoway': 0,\n",
              " 'Lewyn-Martell': 0.5,\n",
              " 'Lewys-Piper': 0,\n",
              " 'Lollys-Stokeworth': 0.5714285714285714,\n",
              " 'Lommy-Greenhands': 0.8,\n",
              " 'Longwater-Pyke': 0,\n",
              " 'Loras-Tyrell': 0.47354497354497355,\n",
              " 'Lorent-Caswell': 0,\n",
              " 'Lorren': 0.14285714285714285,\n",
              " 'Lothar-Frey': 0.41818181818181815,\n",
              " 'Lothor-Brune': 0.6,\n",
              " 'Lucas-Codd': 0,\n",
              " 'Lucifer-Long': 0,\n",
              " 'Luton': 0,\n",
              " 'Luwin': 0.3593073593073593,\n",
              " 'Lyanna-Mormont': 0,\n",
              " 'Lyanna-Stark': 0.8,\n",
              " 'Lyle-Crakehall': 0.5,\n",
              " 'Lyn-Corbray': 0.6666666666666666,\n",
              " 'Lynesse-Hightower': 0,\n",
              " 'Lyonel-Corbray': 1.0,\n",
              " 'Lysa-Arryn': 0.37318840579710144,\n",
              " 'Lysono-Maar': 0,\n",
              " 'Mace-Tyrell': 0.42292490118577075,\n",
              " 'Mad-Huntsman': 0,\n",
              " 'Maddy': 0.6,\n",
              " 'Maege-Mormont': 0.8,\n",
              " 'Maegor-I-Targaryen': 0.4666666666666667,\n",
              " 'Maekar-I-Targaryen': 0,\n",
              " 'Mag-Mar-Tun-Doh-Weg': 1.0,\n",
              " 'Maggy': 1.0,\n",
              " 'Malaquo-Maegyr': 0,\n",
              " 'Malegorn': 0.8333333333333334,\n",
              " 'Mallador-Locke': 0,\n",
              " 'Mance-Rayder': 0.2196969696969697,\n",
              " 'Mandon-Moore': 0.7777777777777778,\n",
              " 'Manfrey-Martell': 0,\n",
              " 'Margaery-Tyrell': 0.296551724137931,\n",
              " 'Marghaz-zo-Loraq': 0,\n",
              " 'Marillion': 0.6944444444444444,\n",
              " 'Mariya-Darry': 1.0,\n",
              " 'Mark-Mullendore': 0,\n",
              " 'Marlon-Manderly': 1.0,\n",
              " 'Maron-Greyjoy': 0,\n",
              " 'Marq-Piper': 0.6071428571428571,\n",
              " 'Marselen': 1.0,\n",
              " 'Martyn-Lannister': 0,\n",
              " 'Martyn-Rivers': 0,\n",
              " 'Marwyn': 0.6666666666666666,\n",
              " 'Marya-Seaworth': 1.0,\n",
              " 'Masha-Heddle': 0,\n",
              " 'Mathis-Rowan': 0.42857142857142855,\n",
              " 'Matthar': 0,\n",
              " 'Matthos-Seaworth': 0,\n",
              " 'Mebble': 0,\n",
              " 'Meera-Reed': 0.43636363636363634,\n",
              " 'Megga-Tyrell': 1.0,\n",
              " 'Melara-Hetherspoon': 0.3333333333333333,\n",
              " 'Meldred-Merlyn': 1.0,\n",
              " 'Melisandre': 0.233201581027668,\n",
              " 'Mellei': 1.0,\n",
              " 'Meralyn': 0,\n",
              " 'Meribald': 0.6,\n",
              " 'Meris': 0.6,\n",
              " 'Mero': 0.5,\n",
              " 'Merrett-Frey': 0,\n",
              " 'Merrit': 0,\n",
              " 'Meryn-Trant': 0.6,\n",
              " 'Mezzara': 1.0,\n",
              " 'Mikken': 0.5,\n",
              " 'Miklaz': 0.3333333333333333,\n",
              " 'Mirri-Maz-Duur': 0.8,\n",
              " 'Missandei': 0.7777777777777778,\n",
              " 'Moelle': 1.0,\n",
              " 'Mollander': 0.8333333333333334,\n",
              " 'Monford-Velaryon': 0.3333333333333333,\n",
              " 'Moon-Boy': 0.5,\n",
              " 'Moqorro': 0.5,\n",
              " 'Mord': 0,\n",
              " 'Mordane': 0.7636363636363637,\n",
              " 'Moreo-Tumitis': 0,\n",
              " 'Morgo': 0,\n",
              " 'Morra': 1.0,\n",
              " 'Morrec': 1.0,\n",
              " 'Mors-Umber': 0.16666666666666666,\n",
              " 'Mully': 0.4722222222222222,\n",
              " 'Munda': 0,\n",
              " 'Murch': 0,\n",
              " 'Murenmure': 1.0,\n",
              " 'Mya-Stone': 0.4,\n",
              " 'Mycah': 1.0,\n",
              " 'Mychel-Redfort': 0,\n",
              " 'Myles-Toyne': 1.0,\n",
              " 'Myranda-Royce': 0.6666666666666666,\n",
              " 'Myrcella-Baratheon': 0.3333333333333333,\n",
              " 'Nage': 0,\n",
              " 'Nan': 0.5,\n",
              " 'Narbert': 1.0,\n",
              " 'Narbert-Grandison': 0.5333333333333333,\n",
              " 'Nestor-Royce': 0.7142857142857143,\n",
              " 'Nurse': 0.8333333333333334,\n",
              " 'Nute': 0.6666666666666666,\n",
              " 'Nyessos-Vhassar': 0,\n",
              " 'Nymeria-Sand': 0.6666666666666666,\n",
              " 'Obara-Sand': 0.6,\n",
              " 'Oberyn-Martell': 0.3368421052631579,\n",
              " 'Ogo': 0.3333333333333333,\n",
              " 'Old-Bill-Bone': 0,\n",
              " 'Olenna-Redwyne': 0.8055555555555556,\n",
              " 'Olyvar-Frey': 1.0,\n",
              " 'Orell': 1.0,\n",
              " 'Orton-Merryweather': 0.6444444444444445,\n",
              " 'Osfryd-Kettleblack': 1.0,\n",
              " 'Osha': 0.6944444444444444,\n",
              " 'Osmund-Kettleblack': 0.47058823529411764,\n",
              " 'Osney-Kettleblack': 0.43636363636363634,\n",
              " 'Oswell-Kettleblack': 1.0,\n",
              " 'Oswell-Whent': 0.6666666666666666,\n",
              " 'Othell-Yarwyck': 0.509090909090909,\n",
              " 'Othor': 0,\n",
              " 'Ottyn-Wythers': 0.8333333333333334,\n",
              " 'Owen': 0.5111111111111111,\n",
              " 'Owen-Merryweather': 0,\n",
              " 'Oznak-zo-Pahl': 1.0,\n",
              " 'Palla': 1.0,\n",
              " 'Patchface': 1.0,\n",
              " 'Pate-(novice)': 0.23809523809523808,\n",
              " 'Pate-(Old)': 0,\n",
              " 'Pate-(whipping-boy)': 0,\n",
              " 'Patrek-of-Kings-Mountain': 0.8333333333333334,\n",
              " 'Paxter-Redwyne': 0.26666666666666666,\n",
              " 'Penny': 0.5238095238095238,\n",
              " 'Perwyn-Frey': 1.0,\n",
              " 'Petyr-Baelish': 0.25254394079555964,\n",
              " 'Petyr-Frey': 0,\n",
              " 'Pia': 0.5,\n",
              " 'Podrick-Payne': 0.3090909090909091,\n",
              " 'Polliver': 0.8461538461538461,\n",
              " 'Pono': 0.5,\n",
              " 'Porridge': 1.0,\n",
              " 'Porther': 0,\n",
              " 'Poxy-Tym': 0,\n",
              " 'Praed': 0,\n",
              " 'Prendahl-na-Ghezn': 1.0,\n",
              " 'Preston-Greenfield': 1.0,\n",
              " 'Puckens': 0,\n",
              " 'Pyat-Pree': 1.0,\n",
              " 'Pycelle': 0.4358974358974359,\n",
              " 'Pyg': 0.6666666666666666,\n",
              " 'Pylos': 0.7333333333333333,\n",
              " 'Pypar': 0.43333333333333335,\n",
              " 'Qarl-the-Maid': 1.0,\n",
              " 'Qavo-Nogarys': 0.6666666666666666,\n",
              " 'Qezza': 0.3,\n",
              " 'Qhorin-Halfhand': 0.32967032967032966,\n",
              " 'Qotho': 0.6666666666666666,\n",
              " 'Quaithe': 0,\n",
              " 'Quaro': 0.8,\n",
              " 'Quellon-Greyjoy': 1.0,\n",
              " 'Quentyn-Martell': 0.19298245614035087,\n",
              " 'Quhuru-Mo': 1.0,\n",
              " 'Quill': 0,\n",
              " 'Qyburn': 0.3006535947712418,\n",
              " 'Rafford': 0.9487179487179487,\n",
              " 'Ragwyle': 0,\n",
              " 'Rakharo': 0.6666666666666666,\n",
              " 'Ralf-(Limper)': 0,\n",
              " 'Ralf-Stonehouse': 1.0,\n",
              " 'Ramsay-Snow': 0.22924901185770752,\n",
              " 'Randyll-Tarly': 0.2564102564102564,\n",
              " 'Rast': 0.8,\n",
              " 'Rattleshirt': 0.5636363636363636,\n",
              " 'Ravella-Swann': 0,\n",
              " 'Raymun-Darry': 1.0,\n",
              " 'Raymun-Redbeard': 0,\n",
              " 'Raynald-Westerling': 0.6666666666666666,\n",
              " 'Raynard': 0,\n",
              " 'Red-Oarsman': 0.3333333333333333,\n",
              " 'Reek': 1.0,\n",
              " 'Renly-Baratheon': 0.28733997155049784,\n",
              " 'Rennifer-Longwaters': 0,\n",
              " 'Reznak-mo-Reznak': 1.0,\n",
              " 'Rhaegar-Frey': 0,\n",
              " 'Rhaegar-Targaryen': 0.35947712418300654,\n",
              " 'Rhaegel-Targaryen': 0,\n",
              " 'Rhaego': 0,\n",
              " 'Rhaella-Targaryen': 1.0,\n",
              " 'Rhaenys-Targaryen': 1.0,\n",
              " 'Rhaenys-Targaryen-(daughter-of-Rhaegar)': 0,\n",
              " 'Ricasso': 0,\n",
              " 'Richard-Horpe': 1.0,\n",
              " 'Rickard-Karstark': 0.48484848484848486,\n",
              " 'Rickard-Stark': 0,\n",
              " 'Rickon-Stark': 0.5514705882352942,\n",
              " 'Robar-Royce': 0.6666666666666666,\n",
              " 'Robb-Stark': 0.14142910033320993,\n",
              " 'Robert-Arryn': 0.24210526315789474,\n",
              " 'Robert-Baratheon': 0.20192307692307693,\n",
              " 'Robert-Strong': 0.5,\n",
              " 'Robett-Glover': 0.19047619047619047,\n",
              " 'Robin-Flint': 1.0,\n",
              " 'Robin-Ryger': 1.0,\n",
              " 'Rodrik-Cassel': 0.3103448275862069,\n",
              " 'Rodrik-Harlaw': 0.42857142857142855,\n",
              " 'Rodrik-Sparr': 1.0,\n",
              " 'Roger-Ryswell': 1.0,\n",
              " 'Rolfe-the-Dwarf': 0,\n",
              " 'Rollam-Westerling': 1.0,\n",
              " 'Rolly-Duckfield': 0.8214285714285714,\n",
              " 'Rolph-Spicer': 0,\n",
              " 'Ronnet-Connington': 1.0,\n",
              " 'Roone': 0.8333333333333334,\n",
              " 'Roose-Bolton': 0.328042328042328,\n",
              " 'Roose-Ryswell': 0,\n",
              " 'Rorge': 0.3888888888888889,\n",
              " 'Rory': 1.0,\n",
              " 'Rosey': 0,\n",
              " 'Roslin-Frey': 1.0,\n",
              " 'Rossart': 0,\n",
              " 'Rowan': 0.7,\n",
              " 'Rugen': 0,\n",
              " 'Rus': 0,\n",
              " 'Ryk': 1.0,\n",
              " 'Ryman-Frey': 0.36363636363636365,\n",
              " 'Salladhor-Saan': 0.8,\n",
              " 'Sallor': 1.0,\n",
              " 'Samwell-Tarly': 0.14482029598308668,\n",
              " 'Sandor-Clegane': 0.35555555555555557,\n",
              " 'Sansa-Stark': 0.16756756756756758,\n",
              " 'Sarella-Sand': 0,\n",
              " 'Satin': 0.3333333333333333,\n",
              " 'Sawane-Botley': 0,\n",
              " 'Scar': 1.0,\n",
              " 'Scolera': 1.0,\n",
              " 'Selwyn-Tarth': 0,\n",
              " 'Selyse-Florent': 0.2573099415204678,\n",
              " 'Senelle': 1.0,\n",
              " 'Shadd': 0,\n",
              " 'Shadrich': 0,\n",
              " 'Shae': 0.4358974358974359,\n",
              " 'Shagga': 0.23809523809523808,\n",
              " 'Shagwell': 0.4666666666666667,\n",
              " 'Sharna': 0.8333333333333334,\n",
              " 'Shireen-Baratheon': 0.38461538461538464,\n",
              " 'Shitmouth': 0,\n",
              " 'Shortear': 0,\n",
              " 'Shrouded-Lord': 0,\n",
              " 'Sigfryd-Harlaw': 1.0,\n",
              " 'Sigorn': 0.8333333333333334,\n",
              " 'Simon-Toyne': 0,\n",
              " 'Skahaz-mo-Kandaq': 0.5757575757575758,\n",
              " 'Skinner': 0.6,\n",
              " 'Small-Paul': 0.6,\n",
              " 'Smiling-Knight': 0,\n",
              " 'Softfoot': 0,\n",
              " 'Soren-Shieldbreaker': 0,\n",
              " 'Sour-Alyn': 0.6666666666666666,\n",
              " 'Spare-Boot': 0.8666666666666667,\n",
              " 'Spotted-Cat': 0.4,\n",
              " 'Squint': 0.6666666666666666,\n",
              " 'Squirrel': 0.8333333333333334,\n",
              " 'Stafford-Lannister': 0.8333333333333334,\n",
              " 'Stannis-Baratheon': 0.10699693564862105,\n",
              " 'Steelskin': 1.0,\n",
              " 'Steffon-Baratheon': 1.0,\n",
              " 'Steffon-Varner': 0,\n",
              " 'Stevron-Frey': 0.8,\n",
              " 'Stiv': 1.0,\n",
              " 'Stonesnake': 0.8333333333333334,\n",
              " 'Stygg': 0.6666666666666666,\n",
              " 'Styr': 0.7142857142857143,\n",
              " 'Sweets': 1.0,\n",
              " 'Sybell-Spicer': 0.3333333333333333,\n",
              " 'Sybelle-Glover': 0,\n",
              " 'Sylva-Santagar': 0.9,\n",
              " 'Symon-Silver-Tongue': 1.0,\n",
              " 'Symon-Stripeback': 1.0,\n",
              " 'Symond-Templeton': 0.7,\n",
              " 'Syrio-Forel': 0.5,\n",
              " 'Taena-of-Myr': 0.5151515151515151,\n",
              " 'Talbert-Serry': 0,\n",
              " 'Talea': 1.0,\n",
              " 'Tallad': 0.4666666666666667,\n",
              " 'Tanda-Stokeworth': 0.7619047619047619,\n",
              " 'Tansy': 0.4666666666666667,\n",
              " 'Tarber': 0,\n",
              " 'Tattered-Prince': 0.42857142857142855,\n",
              " 'Ternesio-Terys': 1.0,\n",
              " 'Terrance-Lynderly': 0.3333333333333333,\n",
              " 'Theobald': 0,\n",
              " 'Theomore': 1.0,\n",
              " 'Theon-Greyjoy': 0.0951048951048951,\n",
              " 'Thistle': 0,\n",
              " 'Thoren-Smallwood': 0.4166666666666667,\n",
              " 'Thoros-of-Myr': 0.6388888888888888,\n",
              " 'Tickler': 1.0,\n",
              " 'Timeon': 0.6666666666666666,\n",
              " 'Timett': 0.8333333333333334,\n",
              " 'Timoth': 0,\n",
              " 'Tion-Frey': 0,\n",
              " 'Tobho-Mott': 0,\n",
              " 'Todder': 1.0,\n",
              " 'Tom-Barleycorn': 0,\n",
              " 'Tom-of-Sevenstreams': 0.5555555555555556,\n",
              " 'Tomard': 0.6190476190476191,\n",
              " 'Tommen-Baratheon': 0.32765151515151514,\n",
              " 'Torbert': 0,\n",
              " 'Toregg': 1.0,\n",
              " 'Torghen-Flint': 0,\n",
              " 'Torgon-Greyiron': 0,\n",
              " 'Tormund': 0.2761904761904762,\n",
              " 'Torrhen-Karstark': 0.6666666666666666,\n",
              " 'Torrhen-Stark': 1.0,\n",
              " 'Torwold-Browntooth': 0,\n",
              " 'Tregar': 0,\n",
              " 'Tristifer-Botley': 1.0,\n",
              " 'Tristifer-IV-Mudd': 0,\n",
              " 'Trystane-Martell': 0,\n",
              " 'Tybero-Istarion': 1.0,\n",
              " 'Tycho-Nestoris': 0.6666666666666666,\n",
              " 'Tyene-Sand': 0.3888888888888889,\n",
              " 'Tyrion-Lannister': 0.08928329494648421,\n",
              " 'Tysha': 0.8333333333333334,\n",
              " 'Tytos-Blackwood': 0.5,\n",
              " 'Tywin-Lannister': 0.2712765957446808,\n",
              " 'Ulf-son-of-Umar': 0,\n",
              " 'Ulmer': 0,\n",
              " 'Umma': 0,\n",
              " 'Unella': 0.6666666666666666,\n",
              " 'Urswyck': 0,\n",
              " 'Urzen': 1.0,\n",
              " 'Utherydes-Wayn': 1.0,\n",
              " 'Val': 0.4722222222222222,\n",
              " 'Varamyr': 0.2,\n",
              " 'Vardis-Egen': 0.5333333333333333,\n",
              " 'Vargo-Hoat': 0.4222222222222222,\n",
              " 'Varly': 0,\n",
              " 'Varys': 0.36363636363636365,\n",
              " 'Vayon-Poole': 1.0,\n",
              " 'Victarion-Greyjoy': 0.10144927536231885,\n",
              " 'Visenya-Targaryen': 1.0,\n",
              " 'Viserys-Targaryen': 0.4065934065934066,\n",
              " 'Vylarr': 1.0,\n",
              " 'Vyman': 0.6666666666666666,\n",
              " 'Waif': 1.0,\n",
              " 'Walda-Frey-(daughter-of-Merrett)': 1.0,\n",
              " 'Walder-Frey': 0.34502923976608185,\n",
              " 'Walder-Frey-(son-of-Jammos)': 1.0,\n",
              " 'Walder-Frey-(son-of-Merrett)': 0.5714285714285714,\n",
              " 'Walder-Rivers': 0.6,\n",
              " 'Walgrave': 0,\n",
              " 'Walton': 0.6,\n",
              " 'Watt': 0,\n",
              " 'Waymar-Royce': 0.3333333333333333,\n",
              " 'Weasel': 0.6666666666666666,\n",
              " 'Weeper': 0.7,\n",
              " 'Weese': 0.5,\n",
              " 'Wendel-Manderly': 0.38095238095238093,\n",
              " 'Werlag': 1.0,\n",
              " 'Wex-Pyke': 0.3,\n",
              " 'Wick-Whittlestick': 1.0,\n",
              " 'Widower': 0,\n",
              " 'Will-(prologue)': 1.0,\n",
              " 'Willam-Dustin': 1.0,\n",
              " 'Willas-Tyrell': 0.75,\n",
              " 'Willem-Lannister': 0,\n",
              " 'William-Foxglove': 0,\n",
              " 'Willis-Wode': 0.8,\n",
              " 'Willow-Heddle': 1.0,\n",
              " 'Willow-Witch-eye': 0,\n",
              " 'Woth': 1.0,\n",
              " 'Wulfe': 0,\n",
              " 'Wun-Weg-Wun-Dar-Wun': 0.6666666666666666,\n",
              " 'Wyl-(guard)': 0.6666666666666666,\n",
              " 'Wylis-Manderly': 1.0,\n",
              " 'Wylla': 0,\n",
              " 'Wyman-Manderly': 0.27941176470588236,\n",
              " 'Wynton-Stout': 0,\n",
              " 'Xaro-Xhoan-Daxos': 0.6666666666666666,\n",
              " 'Xhondo': 1.0,\n",
              " 'Yandry': 0.9523809523809523,\n",
              " 'Yellow-Dick': 1.0,\n",
              " 'Yezzan-zo-Qaggaz': 0.6,\n",
              " 'Ygritte': 0.34615384615384615,\n",
              " 'Yohn-Royce': 0.42857142857142855,\n",
              " 'Yoren': 0.30718954248366015,\n",
              " 'Yorko-Terys': 0,\n",
              " 'Ysilla': 1.0,\n",
              " 'Yurkhaz-zo-Yunzak': 0,\n",
              " 'Zei': 0,\n",
              " 'Zollo': 0.8333333333333334}"
            ]
          },
          "execution_count": 24,
          "metadata": {},
          "output_type": "execute_result"
        }
      ],
      "source": [
        "metrics = {\n",
        "    'Diameter' : nx.diameter(G),\n",
        "    'Radius' : nx.radius(G),\n",
        "    'Avg_network_distance' : nx.average_shortest_path_length(G),\n",
        "    'Clustering_coefficient': nx.clustering(G) \n",
        "}\n",
        "metrics.get('Clustering_coefficient')"
      ]
    },
    {
      "cell_type": "markdown",
      "metadata": {
        "id": "eAgSjt-dfE_P"
      },
      "source": [
        "💬 :"
      ]
    },
    {
      "cell_type": "markdown",
      "metadata": {
        "id": "HMiA4hFQU7hX"
      },
      "source": [
        "## 5. Centrality metrics: Characters' importance\n",
        "---\n",
        "\n",
        "\n",
        "In this section, we will study the importance of the characters according to their centrality in the graph."
      ]
    },
    {
      "cell_type": "markdown",
      "metadata": {
        "id": "U12IpA9BU_TD"
      },
      "source": [
        "* **Compute the 10 most central nodes in the network taking into account the different types of centrality (degree, betweenness, closeness and eigenvector centrality). Moreover, use page rank to assess importance of the characters.**\n",
        "\n",
        "  * *centrality_bar_plot()*: Given the corresponding centrality draw a bar graph.\n",
        "  * 💬 Try to reason about the changes that occur with the different types of centrality."
      ]
    },
    {
      "cell_type": "code",
      "execution_count": null,
      "metadata": {
        "id": "l0_uGmLkVCms"
      },
      "outputs": [],
      "source": [
        "def centrality_bar_plot(centrality, name='betweenness', n=10):\n",
        "    values = ... # Nodes' names\n",
        "    label = ... # Centrality value\n",
        "\n",
        "    df = pd.DataFrame({'Name': label, name: values})\n",
        "    ax = df.plot.bar(x='Name', y=name, rot=90)"
      ]
    },
    {
      "cell_type": "code",
      "execution_count": null,
      "metadata": {
        "id": "gI9WHb_pVG3i"
      },
      "outputs": [],
      "source": [
        "plt.rcParams['figure.figsize'] = [10, 4]\n",
        "\n",
        "degree_centrality = ... # Degree Centrality\n",
        "betweenness_centrality = ... # Betweenness Centrality\n",
        "closeness_centrality = ... # Closeness Centrality\n",
        "eigen_centrality = ... # Eigenvalue Centrality\n",
        "\n",
        "\n",
        "centrality_bar_plot(degree_centrality, name='degree')\n",
        "centrality_bar_plot(betweenness_centrality, name='betweenness')\n",
        "centrality_bar_plot(closeness_centrality, name='closeness')\n",
        "centrality_bar_plot(eigen_centrality, name='eigen')\n",
        "\n",
        "plt.rcParams['figure.figsize'] = [12, 12]"
      ]
    },
    {
      "cell_type": "code",
      "execution_count": null,
      "metadata": {
        "id": "koaKpy3NPlrg"
      },
      "outputs": [],
      "source": [
        "# Page rank:"
      ]
    },
    {
      "cell_type": "markdown",
      "metadata": {
        "id": "vfkufO5EfHMb"
      },
      "source": [
        "💬 :"
      ]
    },
    {
      "cell_type": "markdown",
      "metadata": {
        "id": "mzdW06TWLpgE"
      },
      "source": [
        "* **What is the subgraph generated by the best connected characters?**\n",
        "  * Use closeness centrality to generate the graph of the 25 most central characters."
      ]
    },
    {
      "cell_type": "code",
      "execution_count": null,
      "metadata": {
        "id": "YP0PDNFROlzA"
      },
      "outputs": [],
      "source": [
        "def centrality_subgraph(g, centrality, name='closeness', n=25):\n",
        "    pass"
      ]
    },
    {
      "cell_type": "code",
      "execution_count": null,
      "metadata": {
        "id": "WQI3uYUVQC7K"
      },
      "outputs": [],
      "source": [
        "g_subgraph = centrality_subgraph(...)"
      ]
    },
    {
      "cell_type": "markdown",
      "metadata": {
        "id": "0QAANoAzQkIg"
      },
      "source": [
        "* **Draw this subgraph where the nodes are of size proportional to their centrality. Mark the most central and the less central node in the graph (for instance, use the color of the node to highlight it).**\n",
        "  * Use *closeness centrality* and scale it appropriately to emphasize the importance of different nodes."
      ]
    },
    {
      "cell_type": "code",
      "execution_count": null,
      "metadata": {
        "id": "GrmPPrnLQg-_"
      },
      "outputs": [],
      "source": []
    },
    {
      "cell_type": "markdown",
      "metadata": {
        "id": "mrcyWVDeSbKm"
      },
      "source": [
        "* **Draw the tree that the BFS and DFS algorithm would generate to traverse the graph starting from the least central node of the network according to *closeness centrality*.**\n",
        "  * Use *closeness centrality* and scale it appropriately to emphasize the importance of different nodes.\n",
        "  * To get the positions of the nodes, you can use the `graphviz_layout(tree, prog='dot')` command.\n",
        "  * 💬 Comment on the obtained result.\n"
      ]
    },
    {
      "cell_type": "code",
      "execution_count": null,
      "metadata": {
        "id": "dWqBU-pgGEN1"
      },
      "outputs": [],
      "source": [
        "tree = ...\n",
        "\n",
        "pos = graphviz_layout(..., prog='dot')"
      ]
    },
    {
      "cell_type": "code",
      "execution_count": null,
      "metadata": {
        "id": "TkUidAwLTKLn"
      },
      "outputs": [],
      "source": [
        "tree = ...\n",
        "\n",
        "pos = graphviz_layout(tree, prog='dot')"
      ]
    },
    {
      "cell_type": "markdown",
      "metadata": {
        "id": "XvC9X71WfJPN"
      },
      "source": [
        "💬 :"
      ]
    },
    {
      "cell_type": "markdown",
      "metadata": {
        "id": "tPw518z4bm6X"
      },
      "source": [
        "* **💬 Compute the shortest path between the least and the most central nodes in the complete graph.**"
      ]
    },
    {
      "cell_type": "code",
      "execution_count": null,
      "metadata": {
        "id": "74EyetBvbmZT"
      },
      "outputs": [],
      "source": []
    },
    {
      "cell_type": "markdown",
      "metadata": {
        "id": "P64h9BCGfKQ5"
      },
      "source": [
        "💬 :"
      ]
    },
    {
      "cell_type": "markdown",
      "metadata": {
        "id": "AMmjlE6PLbNa"
      },
      "source": [
        "## 6. Random graph models\n",
        "----\n",
        "Up to this point, we have worked with a graph generated from the data extracted from the *Song of Ice and Fire* books. In the real world, however, obtaining the data needed to construct this graph can become very complex and expensive. This is one of the reasons why, over time, the synthetic generation of graphs has been studied.\n",
        "\n",
        "In this section we will work on the different models described in class. We will generate random graphs and study their properties.\n",
        "\n",
        "* **Generate random graphs with the Uniform, Gilbert and Barabási-Albert models. Fix the number of nodes to the order of the studied graph. Adjust the rest of the parameters of the graph generation function to obtain graphs with similar number of edges.**"
      ]
    },
    {
      "cell_type": "markdown",
      "metadata": {
        "id": "sR-_Q4tIaiDP"
      },
      "source": [
        "### Erdös-Rény: Uniform Model (gnm)"
      ]
    },
    {
      "cell_type": "code",
      "execution_count": null,
      "metadata": {
        "id": "YMzeVY2GOnl1"
      },
      "outputs": [],
      "source": [
        "g_uniform = ..."
      ]
    },
    {
      "cell_type": "markdown",
      "metadata": {
        "id": "9jx8XqxAWOk6"
      },
      "source": [
        "### Erdös-Rény: Gilbert Model (gnp)\n"
      ]
    },
    {
      "cell_type": "code",
      "execution_count": null,
      "metadata": {
        "id": "9KanjwpLRL3k"
      },
      "outputs": [],
      "source": [
        "g_gilbert = ..."
      ]
    },
    {
      "cell_type": "markdown",
      "metadata": {
        "id": "NWTrYow_WQR3"
      },
      "source": [
        "### Barabási-Albert Model\n",
        "\n"
      ]
    },
    {
      "cell_type": "code",
      "execution_count": null,
      "metadata": {
        "id": "xSw72kqvRYzx"
      },
      "outputs": [],
      "source": [
        "g_barbasi = ..."
      ]
    },
    {
      "cell_type": "code",
      "execution_count": null,
      "metadata": {
        "id": "lECOPqH-bku6"
      },
      "outputs": [],
      "source": [
        "g_dict = {'Book': g_book, 'Uniform': g_uniform, 'Erdos': g_gilbert, 'Barbasi': g_barbasi}"
      ]
    },
    {
      "cell_type": "markdown",
      "metadata": {
        "id": "PkksiBi8MYII"
      },
      "source": [
        "* **💬 Show the order and size of the graph as well as the average degree and clustering coefficient of its nodes. Compute also the intervals between the maximum and minimum centralities for each family of synthetic graphs. Make a small report of the main metrics. Which random graph resembles more closely the graph from the books?**\n",
        "     * You can set the graph generation using a random seed. This way, two different runs will generate exactly the same graph."
      ]
    },
    {
      "cell_type": "code",
      "execution_count": null,
      "metadata": {
        "id": "ax0Z-_edMgwW"
      },
      "outputs": [],
      "source": [
        "for k, g in g_dict.items():\n",
        "    pass"
      ]
    },
    {
      "cell_type": "markdown",
      "metadata": {
        "id": "esuCGxsRfMkc"
      },
      "source": [
        "💬 :"
      ]
    },
    {
      "cell_type": "markdown",
      "metadata": {
        "id": "cEt8rlpHUtoA"
      },
      "source": [
        "* **💬 Check whether the networks (the three randomly generated ones and the network extracted from the books) follow a Power Law.**"
      ]
    },
    {
      "cell_type": "code",
      "execution_count": null,
      "metadata": {
        "id": "gB5cRKMtUqYQ"
      },
      "outputs": [],
      "source": [
        "plt.rcParams['figure.figsize'] = [13, 5]\n",
        "\n",
        "for k, g in g_dict.items():\n",
        "  pass"
      ]
    },
    {
      "cell_type": "markdown",
      "metadata": {
        "id": "CKXBK09dfNfr"
      },
      "source": [
        "💬 :"
      ]
    }
  ],
  "metadata": {
    "colab": {
      "private_outputs": true,
      "provenance": []
    },
    "gpuClass": "standard",
    "kernelspec": {
      "display_name": "Python 3 (ipykernel)",
      "language": "python",
      "name": "python3"
    },
    "language_info": {
      "codemirror_mode": {
        "name": "ipython",
        "version": 3
      },
      "file_extension": ".py",
      "mimetype": "text/x-python",
      "name": "python",
      "nbconvert_exporter": "python",
      "pygments_lexer": "ipython3",
      "version": "3.10.11"
    }
  },
  "nbformat": 4,
  "nbformat_minor": 0
}
